{
 "cells": [
  {
   "cell_type": "code",
   "execution_count": 5,
   "id": "305c0e67",
   "metadata": {},
   "outputs": [],
   "source": [
    "import os\n",
    "import json\n",
    "import pandas as pd"
   ]
  },
  {
   "cell_type": "code",
   "execution_count": 2,
   "id": "34a99c69",
   "metadata": {},
   "outputs": [],
   "source": [
    "folder = './results'  # Change to your folder path if needed\n",
    "csv_file = 'results_summary.csv'\n"
   ]
  },
  {
   "cell_type": "code",
   "execution_count": null,
   "id": "06c84698",
   "metadata": {},
   "outputs": [],
   "source": [
    "# Define a function to process a single file\n",
    "def process_file(filepath):\n",
    "    with open(filepath, 'r') as f:\n",
    "        data = json.load(f)\n",
    "    \n",
    "    # Extract columns, using placeholders for missing data\n",
    "    scenario_name = data.get(\"model_file\", \"-\").replace('.json', '')\n",
    "    algorithm = data.get(\"algorithm\", \"-\")\n",
    "    size = data.get(\"size\", \"-\")\n",
    "    optimizer = data.get(\"configuration\", {}).get(\"optimizer\", \"-\")\n",
    "    annealings = data.get(\"nonlinear_annealings\", \"-\")\n",
    "    iterations = data.get(\"nonlinear_iterations\", \"-\")\n",
    "\n",
    "    reasoner = data.get(\"reasoner_results\", {})\n",
    "    if isinstance(reasoner, str):\n",
    "        print(f\"File {filepath} has reasoner results as a string, converting to dict.\")\n",
    "        reasoner = {\"status\": reasoner}\n",
    "    status = reasoner.get(\"status\", \"-\")\n",
    "    score = reasoner.get(\"score\", \"-\")\n",
    "    evaluation = reasoner.get(\"evaluation\", \"-\")\n",
    "    exec_time = reasoner.get(\"solver_exec_time\", \"-\")\n",
    "    dispatch = reasoner.get(\"dispatch\", {})\n",
    "    \n",
    "    # Row for DataFrame\n",
    "    row = {\n",
    "        \"scenario_name\": scenario_name,\n",
    "        \"algorithm\": algorithm,\n",
    "        \"size\": size,\n",
    "        \"optimizer\": optimizer,\n",
    "        \"annealings\": annealings,\n",
    "        \"iterations\": iterations,\n",
    "        \"status\": status,\n",
    "        \"score\": score,\n",
    "        \"evaluation\": evaluation,\n",
    "        \"exec_time\": exec_time\n",
    "    }\n",
    "    \n",
    "    # Key for dispatches dict\n",
    "    dispatch_key = (scenario_name, algorithm, size, optimizer, annealings, iterations)\n",
    "    \n",
    "    return row, dispatch_key, dispatch"
   ]
  },
  {
   "cell_type": "code",
   "execution_count": null,
   "id": "56745511",
   "metadata": {},
   "outputs": [
    {
     "name": "stdout",
     "output_type": "stream",
     "text": [
      "DataFrame:\n",
      "['./results/scenario1_qpeexact_8_linear.json', './results/scenario1_wstate_6_nonlinear_10_40.json', './results/scenario1_ghz_6_linear.json', './results/scenario1_wstate_6_linear.json', './results/scenario2_qpeexact_10_linear.json', './results/scenario1_qpeexact_6_nonlinear_10_40.json', './results/scenario3_wstate_8_linear.json', './results/scenario2_wstate_10_linear.json', './results/scenario2_wstate_8_linear.json', './results/scenario1_wstate_10_nonlinear_10_40.json', './results/scenario1_ghz_6_nonlinear_10_40.json', './results/scenario2_ghz_10_nonlinear_10_40.json', './results/scenario2_qpeexact_8_linear.json', './results/scenario2_qpeexact_8_nonlinear_10_40.json', './results/scenario1_ghz_10_nonlinear_10_40.json', './results/scenario3_wstate_10_linear.json', './results/scenario1_ghz_8_linear.json', './results/scenario2_wstate_6_linear.json', './results/scenario1_qpeexact_8_nonlinear_10_40.json', './results/scenario1_wstate_10_linear.json', './results/scenario1_qpeexact_10_nonlinear_10_40.json', './results/scenario2_wstate_10_nonlinear_10_40.json', './results/scenario1_qpeexact_6_linear.json', './results/scenario1_wstate_8_linear.json']\n",
      "Removed file: ./results/scenario1_qpeexact_8_linear.json\n",
      "Removed file: ./results/scenario1_wstate_6_nonlinear_10_40.json\n",
      "Removed file: ./results/scenario1_ghz_6_linear.json\n",
      "Removed file: ./results/scenario1_wstate_6_linear.json\n",
      "Removed file: ./results/scenario2_qpeexact_10_linear.json\n",
      "Removed file: ./results/scenario1_qpeexact_6_nonlinear_10_40.json\n",
      "Removed file: ./results/scenario3_wstate_8_linear.json\n",
      "Removed file: ./results/scenario2_wstate_10_linear.json\n",
      "Removed file: ./results/scenario2_wstate_8_linear.json\n",
      "Removed file: ./results/scenario1_wstate_10_nonlinear_10_40.json\n",
      "Removed file: ./results/scenario1_ghz_6_nonlinear_10_40.json\n",
      "Removed file: ./results/scenario2_ghz_10_nonlinear_10_40.json\n",
      "Removed file: ./results/scenario2_qpeexact_8_linear.json\n",
      "Removed file: ./results/scenario2_qpeexact_8_nonlinear_10_40.json\n",
      "Removed file: ./results/scenario1_ghz_10_nonlinear_10_40.json\n",
      "Removed file: ./results/scenario3_wstate_10_linear.json\n",
      "Removed file: ./results/scenario1_ghz_8_linear.json\n",
      "Removed file: ./results/scenario2_wstate_6_linear.json\n",
      "Removed file: ./results/scenario1_qpeexact_8_nonlinear_10_40.json\n",
      "Removed file: ./results/scenario1_wstate_10_linear.json\n",
      "Removed file: ./results/scenario1_qpeexact_10_nonlinear_10_40.json\n",
      "Removed file: ./results/scenario2_wstate_10_nonlinear_10_40.json\n",
      "Removed file: ./results/scenario1_qpeexact_6_linear.json\n",
      "Removed file: ./results/scenario1_wstate_8_linear.json\n"
     ]
    }
   ],
   "source": [
    "data_rows = []\n",
    "dispatches = {}\n",
    "\n",
    "if os.path.exists(csv_file) and False:\n",
    "    print(f\"CSV file '{csv_file}' already exists. Skipping processing of files.\")\n",
    "else:\n",
    "    files = [os.path.join(folder, f) for f in os.listdir(folder) if f.endswith('.json')]\n",
    "    for file in files:\n",
    "        row, key, dispatch = process_file(file)\n",
    "        data_rows.append(row)\n",
    "        dispatches[key] = dispatch\n",
    "\n",
    "    # Create DataFrame\n",
    "    df = pd.DataFrame(data_rows)\n",
    "\n",
    "    # Show results\n",
    "    print(\"DataFrame:\")\n",
    "    display(df)\n",
    "\n",
    "    print(\"\\nDispatches dictionary (keys and values):\")\n",
    "    for k, v in dispatches.items():\n",
    "        print(f\"{k}: {v}\")\n",
    "\n",
    "    # if csv is already present, skip saving\n",
    "    if not os.path.exists(csv_file):\n",
    "        df.to_csv(csv_file, index=False)"
   ]
  }
 ],
 "metadata": {
  "kernelspec": {
   "display_name": "venv (3.12.11)",
   "language": "python",
   "name": "python3"
  },
  "language_info": {
   "codemirror_mode": {
    "name": "ipython",
    "version": 3
   },
   "file_extension": ".py",
   "mimetype": "text/x-python",
   "name": "python",
   "nbconvert_exporter": "python",
   "pygments_lexer": "ipython3",
   "version": "3.12.11"
  }
 },
 "nbformat": 4,
 "nbformat_minor": 5
}
